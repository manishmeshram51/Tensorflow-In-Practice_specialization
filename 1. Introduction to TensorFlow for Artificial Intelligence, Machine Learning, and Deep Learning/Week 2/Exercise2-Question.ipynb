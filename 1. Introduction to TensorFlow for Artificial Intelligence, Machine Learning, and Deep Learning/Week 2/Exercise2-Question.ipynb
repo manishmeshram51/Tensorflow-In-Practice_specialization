{
 "cells": [
  {
   "cell_type": "markdown",
   "metadata": {
    "colab_type": "text",
    "id": "tOoyQ70H00_s"
   },
   "source": [
    "## Exercise 2\n",
    "In the course you learned how to do classificaiton using Fashion MNIST, a data set containing items of clothing. There's another, similar dataset called MNIST which has items of handwriting -- the digits 0 through 9.\n",
    "\n",
    "Write an MNIST classifier that trains to 99% accuracy or above, and does it without a fixed number of epochs -- i.e. you should stop training once you reach that level of accuracy.\n",
    "\n",
    "Some notes:\n",
    "1. It should succeed in less than 10 epochs, so it is okay to change epochs= to 10, but nothing larger\n",
    "2. When it reaches 99% or greater it should print out the string \"Reached 99% accuracy so cancelling training!\"\n",
    "3. If you add any additional variables, make sure you use the same names as the ones used in the class\n",
    "\n",
    "I've started the code for you below -- how would you finish it? "
   ]
  },
  {
   "cell_type": "code",
   "execution_count": 51,
   "metadata": {},
   "outputs": [],
   "source": [
    "import tensorflow as tf\n",
    "from os import path, getcwd, chdir\n",
    "\n",
    "# DO NOT CHANGE THE LINE BELOW. If you are developing in a local\n",
    "# environment, then grab mnist.npz from the Coursera Jupyter Notebook\n",
    "# and place it inside a local folder and edit the path to that location\n",
    "path = f\"{getcwd()}/../tmp2/mnist.npz\""
   ]
  },
  {
   "cell_type": "code",
   "execution_count": 57,
   "metadata": {},
   "outputs": [
    {
     "name": "stdout",
     "output_type": "stream",
     "text": [
      "[[  0   0   0   0   0   0   0   0   0   0   0   0   0   0   0   0   0   0\n",
      "    0   0   0   0   0   0   0   0   0   0]\n",
      " [  0   0   0   0   0   0   0   0   0   0   0   0   0   0   0   0   0   0\n",
      "    0   0   0   0   0   0   0   0   0   0]\n",
      " [  0   0   0   0   0   0   0   0   0   0   0   0   0   0   0   0   0   0\n",
      "    0   0   0   0   0   0   0   0   0   0]\n",
      " [  0   0   0   0   0   0   0   0   0   0   0   0   0   0   0   0   0   0\n",
      "    0   0   0   0   0   0   0   0   0   0]\n",
      " [  0   0   0   0   0   0   0   0   0   0   0   0   0   0   0   0   0  38\n",
      "  190  25   0   0   0   0   0   0   0   0]\n",
      " [  0   0   0  13  25  10   0   0   0   0   0   0   0   0   0   0   0 112\n",
      "  252 125   4   0   0   0   0   0   0   0]\n",
      " [  0   0   0 132 252 113   0   0   0   0   0   0   0   0   0   0   0  61\n",
      "  252 252  36   0   0   0   0   0   0   0]\n",
      " [  0   0   0 132 252 240  79   0   0   0   0   0   0   0   0   0   0  84\n",
      "  252 252  36   0   0   0   0   0   0   0]\n",
      " [  0   0   0 132 252 252 238  52   0   0   0   0   0   0   0   0  12 198\n",
      "  252 252 122   0   0   0   0   0   0   0]\n",
      " [  0   0   0  99 252 252 252 181  17   0   0   0   0   0   0   0  49 252\n",
      "  252 252 122   0   0   0   0   0   0   0]\n",
      " [  0   0   0   3 125 252 252 252 100   0   0   0   0   0   0   0  26 218\n",
      "  252 252  36   0   0   0   0   0   0   0]\n",
      " [  0   0   0   0  15 216 252 252 207  19   0   0   0   0   0   0  49 252\n",
      "  252 252  36   0   0   0   0   0   0   0]\n",
      " [  0   0   0   0   0 157 252 252 252  48   0   0   0   6 109 109 194 252\n",
      "  252 252  36   0   0   0   0   0   0   0]\n",
      " [  0   0   0   0   0 100 252 252 252 105   0  58 116 128 252 252 252 252\n",
      "  252 212  19   0   0   0   0   0   0   0]\n",
      " [  0   0   0   0   0   0 164 253 253 253 253 253 253 255 253 253 253 253\n",
      "  253 253  99   0   0   0   0   0   0   0]\n",
      " [  0   0   0   0   0   0  49 252 252 252 252 252 252 253 252 252 252 252\n",
      "  252 252 155   0   0   0   0   0   0   0]\n",
      " [  0   0   0   0   0   0  49 252 252 252 252 252 252 217 216 141 126 252\n",
      "  252 252 155   0   0   0   0   0   0   0]\n",
      " [  0   0   0   0   0   0  49 252 252 252 234 204  89   0   0   0  49 252\n",
      "  252 252 155   0   0   0   0   0   0   0]\n",
      " [  0   0   0   0   0   0  14 158 192 151  45   0   0   0   0   0  49 252\n",
      "  252 252 225  17   0   0   0   0   0   0]\n",
      " [  0   0   0   0   0   0   0   0   0   0   0   0   0   0   0   0  49 252\n",
      "  252 252 252  23   0   0   0   0   0   0]\n",
      " [  0   0   0   0   0   0   0   0   0   0   0   0   0   0   0   0  33 228\n",
      "  252 252 252 157   4   0   0   0   0   0]\n",
      " [  0   0   0   0   0   0   0   0   0   0   0   0   0   0   0   0   0  55\n",
      "  229 252 252 252  11   0   0   0   0   0]\n",
      " [  0   0   0   0   0   0   0   0   0   0   0   0   0   0   0   0   0   0\n",
      "   53 232 252 252  63   0   0   0   0   0]\n",
      " [  0   0   0   0   0   0   0   0   0   0   0   0   0   0   0   0   0   0\n",
      "    0  90 206 131  11   0   0   0   0   0]\n",
      " [  0   0   0   0   0   0   0   0   0   0   0   0   0   0   0   0   0   0\n",
      "    0   0   0   0   0   0   0   0   0   0]\n",
      " [  0   0   0   0   0   0   0   0   0   0   0   0   0   0   0   0   0   0\n",
      "    0   0   0   0   0   0   0   0   0   0]\n",
      " [  0   0   0   0   0   0   0   0   0   0   0   0   0   0   0   0   0   0\n",
      "    0   0   0   0   0   0   0   0   0   0]\n",
      " [  0   0   0   0   0   0   0   0   0   0   0   0   0   0   0   0   0   0\n",
      "    0   0   0   0   0   0   0   0   0   0]]\n",
      "4\n"
     ]
    },
    {
     "data": {
      "image/png": "[encoded data removed]",
      "text/plain": [
       "<Figure size 432x288 with 1 Axes>"
      ]
     },
     "metadata": {
      "needs_background": "light"
     },
     "output_type": "display_data"
    }
   ],
   "source": [
    "# to check the data\n",
    "import matplotlib.pyplot as plt\n",
    "\n",
    "mnist = tf.keras.datasets.mnist\n",
    "(x_train, y_train),(x_test, y_test) = mnist.load_data(path=path)\n",
    "plt.imshow(x_train[20])\n",
    "print(x_train[20])\n",
    "print(y_train[20])"
   ]
  },
  {
   "cell_type": "code",
   "execution_count": 58,
   "metadata": {
    "colab": {},
    "colab_type": "code",
    "id": "9rvXQGAA0ssC"
   },
   "outputs": [],
   "source": [
    "# GRADED FUNCTION: train_mnist\n",
    "def train_mnist():\n",
    "    # Please write your code only where you are indicated.\n",
    "    # please do not remove # model fitting inline comments.\n",
    "\n",
    "    # YOUR CODE SHOULD START HERE\n",
    "    class myCallback(tf.keras.callbacks.Callback):\n",
    "      def on_epoch_end(self, epoch, logs={}):\n",
    "        if(logs.get('acc')>0.99):\n",
    "            print(\"\\nReached 99% accuracy so cancelling training!\")\n",
    "            self.model.stop_training = True\n",
    "    # YOUR CODE SHOULD END HERE\n",
    "\n",
    "    mnist = tf.keras.datasets.mnist\n",
    "    \n",
    "    callbacks = myCallback()\n",
    "    \n",
    "    (x_train, y_train),(x_test, y_test) = mnist.load_data(path=path)\n",
    "    # YOUR CODE SHOULD START HERE\n",
    "    x_train = x_train/255.0\n",
    "    x_test = y_test /255.0\n",
    "    # YOUR CODE SHOULD END HERE\n",
    "    \n",
    "    model = tf.keras.models.Sequential([\n",
    "        # YOUR CODE SHOULD START HERE\n",
    "        tf.keras.layers.Flatten(),\n",
    "        tf.keras.layers.Dense(512, activation= tf.nn.relu),\n",
    "        tf.keras.layers.Dense(10, activation= tf.nn.softmax)\n",
    "        # YOUR CODE SHOULD END HERE\n",
    "    ])\n",
    "\n",
    "    model.compile(optimizer='adam',\n",
    "                  loss='sparse_categorical_crossentropy',\n",
    "                  metrics=['accuracy'])\n",
    "    \n",
    "    # model fitting\n",
    "    history = model.fit(x_train, y_train, epochs=10, callbacks=[callbacks]\n",
    "    )\n",
    "    # model fitting\n",
    "    return history.epoch, history.history['acc'][-1]"
   ]
  },
  {
   "cell_type": "code",
   "execution_count": 32,
   "metadata": {
    "colab": {},
    "colab_type": "code",
    "id": "9rvXQGAA0ssC"
   },
   "outputs": [
    {
     "name": "stdout",
     "output_type": "stream",
     "text": [
      "Epoch 1/10\n",
      "60000/60000 [==============================] - 15s 252us/sample - loss: 0.2004 - acc: 0.9411\n",
      "Epoch 2/10\n",
      "60000/60000 [==============================] - 15s 250us/sample - loss: 0.0800 - acc: 0.9753\n",
      "Epoch 3/10\n",
      "60000/60000 [==============================] - 15s 250us/sample - loss: 0.0518 - acc: 0.9841\n",
      "Epoch 4/10\n",
      "60000/60000 [==============================] - 15s 250us/sample - loss: 0.0368 - acc: 0.9879\n",
      "Epoch 5/10\n",
      "59648/60000 [============================>.] - ETA: 0s - loss: 0.0272 - acc: 0.9913\n",
      "Reached 99% accuracy so cancelling training!\n",
      "60000/60000 [==============================] - 15s 252us/sample - loss: 0.0273 - acc: 0.9913\n"
     ]
    },
    {
     "data": {
      "text/plain": [
       "([0, 1, 2, 3, 4], 0.99128336)"
      ]
     },
     "execution_count": 32,
     "metadata": {},
     "output_type": "execute_result"
    }
   ],
   "source": [
    "train_mnist()"
   ]
  },
  {
   "cell_type": "code",
   "execution_count": 33,
   "metadata": {},
   "outputs": [],
   "source": [
    "# Now click the 'Submit Assignment' button above.\n",
    "# Once that is complete, please run the following two cells to save your work and close the notebook"
   ]
  },
  {
   "cell_type": "code",
   "execution_count": null,
   "metadata": {},
   "outputs": [],
   "source": [
    "%%javascript\n",
    "<!-- Save the notebook -->\n",
    "IPython.notebook.save_checkpoint();"
   ]
  },
  {
   "cell_type": "code",
   "execution_count": null,
   "metadata": {},
   "outputs": [],
   "source": [
    "%%javascript\n",
    "<!-- Shutdown and close the notebook -->\n",
    "window.onbeforeunload = null\n",
    "window.close();\n",
    "IPython.notebook.session.delete();"
   ]
  }
 ],
 "metadata": {
  "coursera": {
   "course_slug": "introduction-tensorflow",
   "graded_item_id": "d6dew",
   "launcher_item_id": "FExZ4"
  },
  "kernelspec": {
   "display_name": "Python 3",
   "language": "python",
   "name": "python3"
  },
  "language_info": {
   "codemirror_mode": {
    "name": "ipython",
    "version": 3
   },
   "file_extension": ".py",
   "mimetype": "text/x-python",
   "name": "python",
   "nbconvert_exporter": "python",
   "pygments_lexer": "ipython3",
   "version": "3.6.8"
  }
 },
 "nbformat": 4,
 "nbformat_minor": 1
}
